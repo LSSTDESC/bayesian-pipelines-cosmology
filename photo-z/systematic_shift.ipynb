{
 "cells": [
  {
   "cell_type": "code",
   "execution_count": 1,
   "id": "c28735da",
   "metadata": {},
   "outputs": [
    {
     "name": "stdout",
     "output_type": "stream",
     "text": [
      "Populating the interactive namespace from numpy and matplotlib\n"
     ]
    }
   ],
   "source": [
    "%pylab inline\n",
    "import os.path\n",
    "import jax\n",
    "import jax.numpy as np\n",
    "import jax_cosmo as jc\n",
    "\n",
    "from astropy.io import fits\n",
    "import h5py\n",
    "import qp"
   ]
  },
  {
   "cell_type": "code",
   "execution_count": 2,
   "id": "bd9bce86",
   "metadata": {},
   "outputs": [],
   "source": [
    "nz_shear = {}\n",
    "\n",
    "with h5py.File(\"nz_qp_shear.h5\", \"r\") as f:\n",
    "    Z_MID = f['Z_MID'][::]\n",
    "    nz_shear['0'] = f['nz_0'][::]\n",
    "    nz_shear['1'] = f['nz_1'][::]\n",
    "    nz_shear['2'] = f['nz_2'][::]\n",
    "    nz_shear['3'] = f['nz_3'][::]\n",
    "    nz_shear['4'] = f['nz_4'][::]"
   ]
  },
  {
   "cell_type": "code",
   "execution_count": 3,
   "id": "f8e801ca",
   "metadata": {},
   "outputs": [
    {
     "name": "stderr",
     "output_type": "stream",
     "text": [
      "WARNING:absl:No GPU/TPU found, falling back to CPU. (Set TF_CPP_MIN_LOG_LEVEL=0 and rerun for more info.)\n"
     ]
    },
    {
     "data": {
      "text/plain": [
       "(Cosmological parameters: \n",
       "     h:        0.6774 \n",
       "     Omega_b:  0.0486 \n",
       "     Omega_c:  0.2589 \n",
       "     Omega_k:  0.0 \n",
       "     w0:       -1.0 \n",
       "     wa:       0.0 \n",
       "     n:        0.9667 \n",
       "     sigma8:   0.8159,\n",
       " [DeviceArray(1., dtype=float32),\n",
       "  DeviceArray(2., dtype=float32),\n",
       "  DeviceArray(3., dtype=float32),\n",
       "  DeviceArray(4., dtype=float32)],\n",
       " [DeviceArray(5., dtype=float32),\n",
       "  DeviceArray(6., dtype=float32),\n",
       "  DeviceArray(7., dtype=float32),\n",
       "  DeviceArray(8., dtype=float32)],\n",
       " [DeviceArray(1., dtype=float32), DeviceArray(2., dtype=float32)])"
      ]
     },
     "execution_count": 3,
     "metadata": {},
     "output_type": "execute_result"
    }
   ],
   "source": [
    "# First, let's define a function to go to and from a 1d parameter vector\n",
    "def get_params_vec(cosmo, m, dz, ia):\n",
    "    m1, m2, m3, m4 = m\n",
    "    dz1, dz2, dz3, dz4 = dz\n",
    "    A, eta = ia\n",
    "    return np.array([ \n",
    "        # Cosmological parameters\n",
    "        cosmo.sigma8, cosmo.Omega_c, cosmo.Omega_b,\n",
    "        cosmo.h, cosmo.n_s, cosmo.w0,\n",
    "        # Shear systematics\n",
    "        m1, m2, m3, m4,\n",
    "        # Photoz systematics\n",
    "        dz1, dz2, dz3, dz4,\n",
    "        # IA model\n",
    "        A, eta\n",
    "    ])\n",
    "    \n",
    "def unpack_params_vec(params):\n",
    "    # Retrieve cosmology\n",
    "    cosmo = jc.Cosmology(sigma8=params[0], Omega_c=params[1], Omega_b=params[2],\n",
    "                         h=params[3], n_s=params[4], w0=params[5],\n",
    "                         Omega_k=0., wa=0.)\n",
    "    m1,m2,m3,m4 = params[6:10]\n",
    "    dz1,dz2,dz3,dz4 = params[10:14]\n",
    "    A = params[14]\n",
    "    eta = params[15]\n",
    "    return cosmo, [m1,m2,m3,m4], [dz1,dz2,dz3,dz4], [A, eta]\n",
    "\n",
    "# Let's try a round trip just to make sure\n",
    "p = get_params_vec(jc.Planck15(), [1.,2.,3.,4.], [5.,6.,7.,8.],\n",
    "              [1., 2.])\n",
    "unpack_params_vec(p)"
   ]
  },
  {
   "cell_type": "code",
   "execution_count": 4,
   "id": "1510fb89",
   "metadata": {},
   "outputs": [],
   "source": [
    "# Unpack parameter vector\n",
    "cosmo, m, dz, (A, eta) = unpack_params_vec(p) \n",
    "bw = 0.01\n",
    "gals_per_arcmin2 = 10\n",
    "neff_s = [1.47, 1.46, 1.50, 0.73]"
   ]
  },
  {
   "cell_type": "code",
   "execution_count": 5,
   "id": "4e1df30d",
   "metadata": {},
   "outputs": [],
   "source": [
    "def apply_shift(z, nz_inp):\n",
    "    nz = jc.redshift.kde_nz(z,  nz_inp, bw = bw,  gals_per_arcmin2 = gals_per_arcmin2)\n",
    "    nzs_s = [jc.redshift.kde_nz(z,\n",
    "                            nz, \n",
    "                            bw = bw,\n",
    "                            gals_per_arcmin2=neff_s[i - 1])\n",
    "           for i in range(1, 5)]\n",
    "    nzs_s_sys = [jc.redshift.systematic_shift(nzi, dzi) for nzi, dzi in zip(nzs_s, dz)]\n",
    "    return nzs_s_sys"
   ]
  },
  {
   "cell_type": "code",
   "execution_count": 6,
   "id": "4c5d1dfa",
   "metadata": {},
   "outputs": [],
   "source": [
    "nz_sys_shear = {}\n",
    "\n",
    "for i in range(1, 5):\n",
    "    shifted_nz = apply_shift(Z_MID, nz_shear[str(i)])[i-1]\n",
    "    nz_sys_shear[str(i)] = shifted_nz"
   ]
  },
  {
   "cell_type": "code",
   "execution_count": null,
   "id": "4de70773",
   "metadata": {},
   "outputs": [],
   "source": []
  }
 ],
 "metadata": {
  "kernelspec": {
   "display_name": "Python [conda env:root] *",
   "language": "python",
   "name": "conda-root-py"
  },
  "language_info": {
   "codemirror_mode": {
    "name": "ipython",
    "version": 3
   },
   "file_extension": ".py",
   "mimetype": "text/x-python",
   "name": "python",
   "nbconvert_exporter": "python",
   "pygments_lexer": "ipython3",
   "version": "3.8.12"
  }
 },
 "nbformat": 4,
 "nbformat_minor": 5
}
